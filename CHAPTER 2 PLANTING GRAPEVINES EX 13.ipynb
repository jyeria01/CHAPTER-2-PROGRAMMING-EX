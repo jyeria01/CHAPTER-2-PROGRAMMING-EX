{
 "cells": [
  {
   "cell_type": "markdown",
   "id": "2943a361",
   "metadata": {},
   "source": [
    "# PLANTING GRAPEVINES"
   ]
  },
  {
   "cell_type": "markdown",
   "id": "5eaa6e66",
   "metadata": {},
   "source": [
    "# 1. GET HOW MANY GRAPEVINES TO PLANT IN EACH ROW\n",
    "# 2. DETERMINE BY MEASURING LENGTH OF FUTURE ROW\n",
    "# 3. USE FORMULA PROVIDED\n",
    "# 4. DISPLAY THE RESULTS OF THE CALCULATIONS"
   ]
  },
  {
   "cell_type": "markdown",
   "id": "e4ef2f54",
   "metadata": {},
   "source": [
    "   ## V will represent the number of grapvines that will fit in a row\n",
    "   ## R will represent the lenght of rows in feet\n",
    "   ## E will represent the amount of space in feet used by end-post assembly\n",
    "   ## S will represent the space between vines, in feet"
   ]
  },
  {
   "cell_type": "markdown",
   "id": "491cf978",
   "metadata": {},
   "source": [
    "# The customer should be able to enter information for the calculation"
   ]
  },
  {
   "cell_type": "code",
   "execution_count": 1,
   "id": "b6f5d18b",
   "metadata": {},
   "outputs": [
    {
     "name": "stdout",
     "output_type": "stream",
     "text": [
      "Enter the length of the Row in feet: 100\n",
      "Enter the amount of space used by the end-post assembly in feet: 3\n",
      "Enter the amount of space used by the vines in the row: 2\n"
     ]
    }
   ],
   "source": [
    "R = float(input(\"Enter the length of the Row in feet: \"))\n",
    "E = float(input(\"Enter the amount of space used by the end-post assembly in feet: \"))\n",
    "S = float(input(\"Enter the amount of space used by the vines in the row: \"))"
   ]
  },
  {
   "cell_type": "markdown",
   "id": "588ee8a2",
   "metadata": {},
   "source": [
    "# V should produce the number of grapvines that will fit in a row"
   ]
  },
  {
   "cell_type": "code",
   "execution_count": null,
   "id": "4f0e64b1",
   "metadata": {},
   "outputs": [],
   "source": []
  }
 ],
 "metadata": {
  "kernelspec": {
   "display_name": "Python 3 (ipykernel)",
   "language": "python",
   "name": "python3"
  },
  "language_info": {
   "codemirror_mode": {
    "name": "ipython",
    "version": 3
   },
   "file_extension": ".py",
   "mimetype": "text/x-python",
   "name": "python",
   "nbconvert_exporter": "python",
   "pygments_lexer": "ipython3",
   "version": "3.11.4"
  }
 },
 "nbformat": 4,
 "nbformat_minor": 5
}
