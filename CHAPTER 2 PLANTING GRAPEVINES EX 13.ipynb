{
 "cells": [
  {
   "cell_type": "markdown",
   "id": "782e952f",
   "metadata": {},
   "source": [
    "# PLANTING GRAPEVINES"
   ]
  },
  {
   "cell_type": "markdown",
   "id": "a370e4d8",
   "metadata": {},
   "source": [
    "# 1. GET HOW MANY GRAPEVINES TO PLANT IN EACH ROW\n",
    "# 2. DETERMINE BY MEASURING LENGTH OF FUTURE ROW\n",
    "# 3. USE FORMULA PROVIDED\n",
    "# 4. DISPLAY THE RESULTS OF THE CALCULATIONS"
   ]
  },
  {
   "cell_type": "markdown",
   "id": "ff221d71",
   "metadata": {},
   "source": [
    "   ## V will represent the number of grapvines that will fit in a row\n",
    "   ## R will represent the lenght of rows in feet\n",
    "   ## E will represent the amount of space in feet used by end-post assembly\n",
    "   ## S will represent the space between vines, in feet"
   ]
  },
  {
   "cell_type": "markdown",
   "id": "f634adf5",
   "metadata": {},
   "source": [
    "# The customer should be able to enter information for the calculation"
   ]
  },
  {
   "cell_type": "code",
   "execution_count": null,
   "id": "1b3bf8fc",
   "metadata": {},
   "outputs": [],
   "source": [
    "R = float(input(\"Enter the lenght of the Row in feet\"))\n",
    "E = float(input(\"Enter the amount of space used by the end-post assembly in feet\"))\n",
    "S = float(inputer(\"\"))"
   ]
  }
 ],
 "metadata": {
  "kernelspec": {
   "display_name": "Python 3 (ipykernel)",
   "language": "python",
   "name": "python3"
  },
  "language_info": {
   "codemirror_mode": {
    "name": "ipython",
    "version": 3
   },
   "file_extension": ".py",
   "mimetype": "text/x-python",
   "name": "python",
   "nbconvert_exporter": "python",
   "pygments_lexer": "ipython3",
   "version": "3.11.4"
  }
 },
 "nbformat": 4,
 "nbformat_minor": 5
}
