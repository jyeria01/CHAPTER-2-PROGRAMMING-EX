{
 "cells": [
  {
   "cell_type": "markdown",
   "id": "eaf7ae95",
   "metadata": {},
   "source": [
    "# PLANTING GRAPEVINES"
   ]
  },
  {
   "cell_type": "markdown",
   "id": "62e5f98c",
   "metadata": {},
   "source": [
    "# 1. GET HOW MANY GRAPEVINES TO PLANT IN EACH ROW\n",
    "# 2. DETERMINE BY MEASURING LENGTH OF FUTURE ROW\n",
    "# 3. USE FORMULA PROVIDED\n",
    "# 4. DISPLAY THE RESULTS OF THE CALCULATIONS"
   ]
  },
  {
   "cell_type": "markdown",
   "id": "c4b9e895",
   "metadata": {},
   "source": [
    "   ## V will represent the number of grapvines that will fit in a row\n",
    "   ## R will represent the lenght of rows in feet\n",
    "   ## E will represent the amount of space in feet used by end-post assembly\n",
    "   ## S will represent the space between vines, in feet"
   ]
  },
  {
   "cell_type": "markdown",
   "id": "0c51165a",
   "metadata": {},
   "source": [
    "# The customer should be able to enter information for the calculation"
   ]
  },
  {
   "cell_type": "code",
   "execution_count": 1,
   "id": "9e7c68c8",
   "metadata": {},
   "outputs": [
    {
     "name": "stdout",
     "output_type": "stream",
     "text": [
      "Enter the length of the Row in feet: 100\n",
      "Enter the amount of space used by the end-post assembly in feet: 3\n",
      "Enter the amount of space used by the vines in the row: 2\n"
     ]
    }
   ],
   "source": [
    "R = float(input(\"Enter the length of the Row in feet: \"))\n",
    "E = float(input(\"Enter the amount of space used by the end-post assembly in feet: \"))\n",
    "S = float(input(\"Enter the amount of space used by the vines in the row: \"))"
   ]
  },
  {
   "cell_type": "markdown",
   "id": "782c9976",
   "metadata": {},
   "source": [
    "# V should produce the number of grapvines that will fit in a row by using the forula given in the textbook page 116 V= R-2E/S"
   ]
  },
  {
   "cell_type": "code",
   "execution_count": 12,
   "id": "95ff38b4",
   "metadata": {},
   "outputs": [],
   "source": [
    "V = R - 2 * E / S"
   ]
  },
  {
   "cell_type": "code",
   "execution_count": 15,
   "id": "3b5afbdd",
   "metadata": {},
   "outputs": [
    {
     "name": "stdout",
     "output_type": "stream",
     "text": [
      "The number of grapevines will be: 97.0\n"
     ]
    }
   ],
   "source": [
    "print(f\"The number of grapevines will be: {V}\") # I had to use chatGPT to find the correct formula - I kept getting an error"
   ]
  },
  {
   "cell_type": "markdown",
   "id": "a39f7546",
   "metadata": {},
   "source": []
  }
 ],
 "metadata": {
  "kernelspec": {
   "display_name": "Python 3 (ipykernel)",
   "language": "python",
   "name": "python3"
  },
  "language_info": {
   "codemirror_mode": {
    "name": "ipython",
    "version": 3
   },
   "file_extension": ".py",
   "mimetype": "text/x-python",
   "name": "python",
   "nbconvert_exporter": "python",
   "pygments_lexer": "ipython3",
   "version": "3.11.4"
  }
 },
 "nbformat": 4,
 "nbformat_minor": 5
}
