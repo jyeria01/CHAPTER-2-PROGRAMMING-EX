{
 "cells": [
  {
   "cell_type": "markdown",
   "id": "8cd53938",
   "metadata": {},
   "source": [
    "# PLANTING GRAPEVINES"
   ]
  },
  {
   "cell_type": "markdown",
   "id": "2e091846",
   "metadata": {},
   "source": [
    "# 1. GET HOW MANY GRAPEVINES TO PLANT IN EACH ROW\n",
    "# 2. DETERMINE BY MEASURING LENGTH OF FUTURE ROW\n",
    "# 3. USE FORMULA PROVIDED\n",
    "# 4. DISPLAY THE RESULTS OF THE CALCULATIONS"
   ]
  },
  {
   "cell_type": "markdown",
   "id": "480f5a32",
   "metadata": {},
   "source": [
    "   ## V will represent the number of grapvines that will fit in a row\n",
    "   ## R will represent the lenght of rows in feet\n",
    "   ## E will represent the amount of space in feet used by end-post assembly\n",
    "   ## S will represent the space between vines, in feet"
   ]
  },
  {
   "cell_type": "markdown",
   "id": "652d679c",
   "metadata": {},
   "source": [
    "# The customer should be able to enter information for the calculation"
   ]
  },
  {
   "cell_type": "code",
   "execution_count": 1,
   "id": "477b40c8",
   "metadata": {},
   "outputs": [
    {
     "name": "stdout",
     "output_type": "stream",
     "text": [
      "Enter the length of the Row in feet: 100\n",
      "Enter the amount of space used by the end-post assembly in feet: 3\n",
      "Enter the amount of space used by the vines in the row: 2\n"
     ]
    }
   ],
   "source": [
    "R = float(input(\"Enter the length of the Row in feet: \"))\n",
    "E = float(input(\"Enter the amount of space used by the end-post assembly in feet: \"))\n",
    "S = float(input(\"Enter the amount of space used by the vines in the row: \"))"
   ]
  },
  {
   "cell_type": "markdown",
   "id": "42767c84",
   "metadata": {},
   "source": [
    "# V should produce the number of grapvines that will fit in a row by using the forula given in the textbook page 116 V= R-2E/S"
   ]
  },
  {
   "cell_type": "code",
   "execution_count": 2,
   "id": "8cc51289",
   "metadata": {},
   "outputs": [
    {
     "ename": "SyntaxError",
     "evalue": "unmatched ')' (2901358151.py, line 1)",
     "output_type": "error",
     "traceback": [
      "\u001b[1;36m  Cell \u001b[1;32mIn[2], line 1\u001b[1;36m\u001b[0m\n\u001b[1;33m    V = R - 2 * E) / S\u001b[0m\n\u001b[1;37m                 ^\u001b[0m\n\u001b[1;31mSyntaxError\u001b[0m\u001b[1;31m:\u001b[0m unmatched ')'\n"
     ]
    }
   ],
   "source": [
    "V = R - 2 * E) / S"
   ]
  },
  {
   "cell_type": "code",
   "execution_count": 3,
   "id": "53643388",
   "metadata": {},
   "outputs": [
    {
     "ename": "SyntaxError",
     "evalue": "unterminated string literal (detected at line 1) (235959688.py, line 1)",
     "output_type": "error",
     "traceback": [
      "\u001b[1;36m  Cell \u001b[1;32mIn[3], line 1\u001b[1;36m\u001b[0m\n\u001b[1;33m    Print(\"The number of grapevines in the row will be:\", V\")\u001b[0m\n\u001b[1;37m                                                           ^\u001b[0m\n\u001b[1;31mSyntaxError\u001b[0m\u001b[1;31m:\u001b[0m unterminated string literal (detected at line 1)\n"
     ]
    }
   ],
   "source": [
    "Print(\"The number of grapevines in the row will be:\", V\")"
   ]
  },
  {
   "cell_type": "code",
   "execution_count": null,
   "id": "073da303",
   "metadata": {},
   "outputs": [],
   "source": []
  }
 ],
 "metadata": {
  "kernelspec": {
   "display_name": "Python 3 (ipykernel)",
   "language": "python",
   "name": "python3"
  },
  "language_info": {
   "codemirror_mode": {
    "name": "ipython",
    "version": 3
   },
   "file_extension": ".py",
   "mimetype": "text/x-python",
   "name": "python",
   "nbconvert_exporter": "python",
   "pygments_lexer": "ipython3",
   "version": "3.11.4"
  }
 },
 "nbformat": 4,
 "nbformat_minor": 5
}
